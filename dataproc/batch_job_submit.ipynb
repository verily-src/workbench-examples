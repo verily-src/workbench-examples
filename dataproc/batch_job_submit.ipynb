{
 "cells": [
  {
   "cell_type": "markdown",
   "id": "0",
   "metadata": {},
   "source": [
    "# Batch job submission\n",
    "\n",
    "This notebook shows how you can submit a Dataproc batch job. The job script is based on the `annotate_significant_gwas_results_with_gnomad.ipynb` notebook, converted to a Python script."
   ]
  },
  {
   "cell_type": "markdown",
   "id": "1",
   "metadata": {},
   "source": [
    "First, derive the staging bucket GCS URI from its known resource name (which is based on the workspace ID), using the `wb` CLI:"
   ]
  },
  {
   "cell_type": "code",
   "execution_count": null,
   "id": "2",
   "metadata": {},
   "outputs": [],
   "source": [
    "ws_id_list = !wb workspace describe --format=JSON | jq '.id'\n",
    "WORKSPACE_ID = ws_id_list[0]\n",
    "print(WORKSPACE_ID)"
   ]
  },
  {
   "cell_type": "code",
   "execution_count": null,
   "id": "3",
   "metadata": {},
   "outputs": [],
   "source": [
    "STAGING_BUCKET_CMD_OUTPUT = !wb resolve --name=dataproc-staging-{WORKSPACE_ID}\n",
    "STAGING_BUCKET = STAGING_BUCKET_CMD_OUTPUT[0]\n",
    "print(STAGING_BUCKET)"
   ]
  },
  {
   "cell_type": "markdown",
   "id": "4",
   "metadata": {},
   "source": [
    "Convert the `annotate_significant_gwas_results_with_gnomad.ipynb` notebook to a python script:"
   ]
  },
  {
   "cell_type": "code",
   "execution_count": null,
   "id": "5",
   "metadata": {},
   "outputs": [],
   "source": [
    "!jupyter nbconvert --to script annotate_significant_gwas_results_with_gnomad.ipynb"
   ]
  },
  {
   "cell_type": "markdown",
   "id": "6",
   "metadata": {},
   "source": [
    "Next, temporarily work around an issue invoking `w` CLI commands from this script.  \n",
    "Trim the part of the code from the notebook that derives the `STAGING_BUCKET`, and instead replace the `STAGING_BUCKET`'s value in the script."
   ]
  },
  {
   "cell_type": "code",
   "execution_count": null,
   "id": "7",
   "metadata": {},
   "outputs": [],
   "source": [
    "!cp annotate_significant_gwas_results_with_gnomad.py annotate_significant_gwas_results_with_gnomad_ORIG.py"
   ]
  },
  {
   "cell_type": "code",
   "execution_count": null,
   "id": "8",
   "metadata": {},
   "outputs": [],
   "source": [
    "with open('annotate_significant_gwas_results_with_gnomad_ORIG.py', 'rt') as fin:\n",
    "    with open('annotate_significant_gwas_results_with_gnomad.py', 'wt') as fout:\n",
    "        excised_section = False\n",
    "        for line in fin:\n",
    "            if \"### wb-cli begin\" in line:\n",
    "                excised_section = True\n",
    "            elif \"### wb-cli end\" in line:\n",
    "                excised_section = False\n",
    "            elif excised_section:\n",
    "                continue\n",
    "            else:\n",
    "              fout.write(line.replace(\"STAGING_BUCKET\",\n",
    "                                      f\"'{STAGING_BUCKET}'\"))"
   ]
  },
  {
   "cell_type": "markdown",
   "id": "9",
   "metadata": {},
   "source": [
    "## Submit the batch job\n",
    "\n",
    "**Edit the following cell with the ID of your Dataproc cluster**. \n",
    "\n",
    "Then run the cell to submit the batch job. You can monitor the running job via its output, or by visiting https://console.cloud.google.com/dataproc/jobs ."
   ]
  },
  {
   "cell_type": "code",
   "execution_count": null,
   "id": "10",
   "metadata": {
    "tags": []
   },
   "outputs": [],
   "source": [
    "!gcloud dataproc jobs submit pyspark --cluster <YOUR_CLUSTER_ID> --region us-central1 \\\n",
    "    annotate_significant_gwas_results_with_gnomad.py"
   ]
  },
  {
   "cell_type": "markdown",
   "id": "11",
   "metadata": {},
   "source": [
    "## Provenance\n",
    "\n",
    "Generate information about this notebook environment and the packages installed."
   ]
  },
  {
   "cell_type": "code",
   "execution_count": null,
   "id": "12",
   "metadata": {},
   "outputs": [],
   "source": [
    "!date\n"
   ]
  },
  {
   "cell_type": "markdown",
   "id": "13",
   "metadata": {},
   "source": [
    "Conda and pip installed packages:"
   ]
  },
  {
   "cell_type": "code",
   "execution_count": null,
   "id": "14",
   "metadata": {},
   "outputs": [],
   "source": [
    "!conda env export\n"
   ]
  },
  {
   "cell_type": "markdown",
   "id": "15",
   "metadata": {},
   "source": [
    "JupyterLab extensions:"
   ]
  },
  {
   "cell_type": "code",
   "execution_count": null,
   "id": "16",
   "metadata": {},
   "outputs": [],
   "source": [
    "!jupyter labextension list\n"
   ]
  },
  {
   "cell_type": "markdown",
   "id": "17",
   "metadata": {},
   "source": [
    "Number of cores:"
   ]
  },
  {
   "cell_type": "code",
   "execution_count": null,
   "id": "18",
   "metadata": {},
   "outputs": [],
   "source": [
    "!grep ^processor /proc/cpuinfo | wc -l\n"
   ]
  },
  {
   "cell_type": "markdown",
   "id": "19",
   "metadata": {},
   "source": [
    "Memory:"
   ]
  },
  {
   "cell_type": "code",
   "execution_count": null,
   "id": "20",
   "metadata": {},
   "outputs": [],
   "source": [
    "!grep \"^MemTotal:\" /proc/meminfo"
   ]
  },
  {
   "cell_type": "markdown",
   "id": "21",
   "metadata": {},
   "source": [
    "---\n",
    "Copyright 2023 Verily Life Sciences LLC\n",
    "\n",
    "Use of this source code is governed by a BSD-style  \n",
    "license that can be found in the LICENSE file or at  \n",
    "https://developers.google.com/open-source/licenses/bsd"
   ]
  }
 ],
 "metadata": {
  "environment": {
   "kernel": "python3",
   "name": "r-cpu.m123",
   "type": "gcloud",
   "uri": "us-docker.pkg.dev/deeplearning-platform-release/gcr.io/r-cpu:m123"
  },
  "kernelspec": {
   "display_name": "Python 3 (Local)",
   "language": "python",
   "name": "python3"
  },
  "language_info": {
   "codemirror_mode": {
    "name": "ipython",
    "version": 3
   },
   "file_extension": ".py",
   "mimetype": "text/x-python",
   "name": "python",
   "nbconvert_exporter": "python",
   "pygments_lexer": "ipython3",
   "version": "3.10.14"
  }
 },
 "nbformat": 4,
 "nbformat_minor": 5
}
