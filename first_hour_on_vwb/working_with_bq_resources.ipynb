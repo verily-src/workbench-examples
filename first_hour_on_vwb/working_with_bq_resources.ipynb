{
 "cells": [
  {
   "cell_type": "markdown",
   "metadata": {
    "tags": []
   },
   "source": [
    "# Working with BigQuery resources\n",
    "\n",
    "<table align=\"left\">\n",
    "\n",
    "  <td>\n",
    "    <a href=\"https://github.com/verily-src/workbench-examples/blob/main/first_hour_on_vwb/working_with_bq_resources.ipynb\">\n",
    "      <img src=\"https://cloud.google.com/ml-engine/images/github-logo-32px.png\" alt=\"GitHub logo\">\n",
    "      View on GitHub\n",
    "    </a>\n",
    "  </td>\n",
    "</table>\n"
   ]
  },
  {
   "cell_type": "markdown",
   "metadata": {
    "id": "tvgnzT1CKxrO",
    "tags": []
   },
   "source": [
    "## Overview\n",
    "\n",
    "This notebook provides examples of working with data from a [referenced resource](https://support.workbench.verily.com/docs/guides/research_data/resource_intro/#referenced-vs-workspace-controlled-data-resources).  \n",
    "Build upon the best practices demonstrated in this notebook to visualize and analyze data in your own workspaces."
   ]
  },
  {
   "cell_type": "markdown",
   "metadata": {
    "id": "d975e698c9a4",
    "tags": []
   },
   "source": [
    "### Objective\n",
    "\n",
    "Use this notebook to perform common workspace resource operations including:\n",
    "\n",
    "- [Access data from referenced resources](#access-ref-data)\n",
    "  - [Read data from BigQuery](#read-from-bq)\n",
    "    - [Using cell magics](#cell-magics)\n",
    "    - [Using pandas-gbq library](#using-pandas)\n",
    "\n",
    "#### How to run this notebook\n",
    "\n",
    "Run the [Notebook setup](#notebook-setup) section before running the cells of the other sections.\n",
    "\n",
    "#### Costs\n",
    "\n",
    "This notebook takes less than a minute to run, which will typically cost less than $0.01 of compute time on your cloud environment."
   ]
  },
  {
   "cell_type": "markdown",
   "metadata": {},
   "source": [
    "### Notebook setup <a href=\"notebook-setup\"></a>\n",
    "\n",
    "Run the cell below to import dependencies and utilities.\n"
   ]
  },
  {
   "cell_type": "code",
   "execution_count": null,
   "metadata": {
    "tags": []
   },
   "outputs": [],
   "source": [
    "from IPython.display import display, HTML\n",
    "import ipywidgets as widgets\n",
    "import json\n",
    "import pandas as pd\n",
    "import pandas_gbq\n",
    "import os\n",
    "import subprocess\n",
    "import widget_utils as wu\n",
    "\n",
    "'''\n",
    "Resolves bucket URL from bucket reference in workspace.\n",
    "'''\n",
    "def get_bucket_url_from_reference(resource_id):\n",
    "    BUCKET_CMD_OUTPUT = !wb resolve --name={bucket_reference}\n",
    "    BUCKET = BUCKET_CMD_OUTPUT[0]\n",
    "    return BUCKET\n",
    "\n",
    "'''\n",
    "Resolves BigQuery dataset from a reference in workspace.\n",
    "'''\n",
    "def get_bq_dataset_from_reference(resource_id):\n",
    "    BQ_CMD_OUTPUT = !wb resolve --id={resource_id}\n",
    "    BQ_DATASET = BQ_CMD_OUTPUT[0]\n",
    "    return BQ_DATASET\n",
    "\n",
    "'''\n",
    "Resolves current workspace ID from workspace description.\n",
    "'''\n",
    "def get_current_workspace_id():\n",
    "    WORKSPACE_CMD_OUTPUT = !wb workspace describe --format=json | jq --raw-output \".id\"\n",
    "    WORKSPACE_ID = WORKSPACE_CMD_OUTPUT[0]\n",
    "    return WORKSPACE_ID\n",
    "\n",
    "CURRENT_WORKSPACE_ID = get_current_workspace_id()\n",
    "print(f'Workspace ID: {CURRENT_WORKSPACE_ID}')"
   ]
  },
  {
   "cell_type": "markdown",
   "metadata": {
    "tags": []
   },
   "source": [
    "### Workspace setup\n",
    "\n",
    "<div class=\"alert alert-block alert-info\">\n",
    "<b>Note:</b> This notebook assumes that <a href=\"../../workbench-examples/workspace_setup.ipynb\">`workspace_setup.ipynb`</a> has been run.\n",
    "</div>\n",
    "    \n",
    "`workspace_setup.ipynb` creates two Cloud Storage buckets for your workspace files with workspace reference names:\n",
    "\n",
    "- ws_files\n",
    "- ws_files_autodelete_after_two_weeks\n",
    "\n",
    "The code in this notebook will write output files to the \"autodelete\" bucket by default.  \n",
    " Any file in this bucket will be automatically deleted <b>two weeks</b> after it is written.  \n",
    " This alleviates the need for you to remember to clean up temporary and example files manually.  \n",
    " If you want to write outputs to a durable location, simply change the assignment of the `BUCKET_REFERENCE` variable in the cell below and re-run the notebook.\n"
   ]
  },
  {
   "cell_type": "code",
   "execution_count": null,
   "metadata": {
    "tags": []
   },
   "outputs": [],
   "source": [
    "# Change this to \"ws_files\" to use the durable workspace bucket instead of the autodelete bucket.\n",
    "BUCKET_REFERENCE = \"ws_files_autodelete_after_two_weeks\""
   ]
  },
  {
   "cell_type": "code",
   "execution_count": null,
   "metadata": {
    "tags": []
   },
   "outputs": [],
   "source": [
    "MY_BUCKET = get_bucket_url_from_reference(BUCKET_REFERENCE)\n",
    "print(f'Bucket ID: {MY_BUCKET}')"
   ]
  },
  {
   "cell_type": "markdown",
   "metadata": {
    "tags": []
   },
   "source": [
    "## Working with data from referenced resources\n",
    "\n",
    "<a id='access-ref-data'></a>\n",
    "\n",
    "[Referenced resources](https://support.workbench.verily.com/docs/guides/research_data/resource_intro/#referenced-vs-workspace-controlled-data-resources) represent data or other elements in Verily Workbench by pointing to a source that exists outside of the current workspace. To add a referenced resource to your workspace, use the <a href=\"../working_with_resources.ipynb\">working_with_resources.ipynb</a> notebook."
   ]
  },
  {
   "cell_type": "markdown",
   "metadata": {},
   "source": [
    "### Reading data from BigQuery\n",
    "<a id='read-from-bq'></a>\n",
    "\n",
    "There are many ways to interact with your referenced resource data in a Verily Workbench cloud environment. This notebook provides examples of several options, each of which are appropriate for certain use cases."
   ]
  },
  {
   "cell_type": "markdown",
   "metadata": {},
   "source": [
    "### Using cell magics\n",
    "\n",
    "<a id='cell-magics'></a>\n",
    "\n",
    "For troubleshooting, demos and developing new queries, it's useful to leverage the [IPython magics for BigQuery](https://cloud.google.com/python/docs/reference/bigquery/latest/magics), several examples of which are provided below.\n",
    "\n",
    "<div class=\"alert alert-block alert-success\">\n",
    "<b>Note:</b> \n",
    "    The examples in this sub-section utilize data from the 1000 Genomes data collection. Please add the BigQuery tables from that data collection to your current workspace before running the cells below. Instructions for adding a data collection to your workspace can be found <a href=\"https://support.workbench.verily.com/docs/how_to_guides/work_with_data/#add-a-data-collection\">here</a>.</div>\n",
    "\n",
    "\n"
   ]
  },
  {
   "cell_type": "markdown",
   "metadata": {
    "tags": []
   },
   "source": [
    "#### Getting summary stats\n",
    "\n",
    "<a id='inspect-bq-stats'></a>\n",
    "\n",
    "To get summary statistics and visualizations for all the columns of a BigQuery table, you can use the `%bigquery_stats` cell magic. Run the cell below to view summary stats for all the table columns in the pedigree table of the 1000 Genomes dataset. This example may take up to one minute to run, as it is performing a query per column. Queries on public datasets are [free up to 1 TB per month](https://cloud.google.com/bigquery/public-data)."
   ]
  },
  {
   "cell_type": "code",
   "execution_count": null,
   "metadata": {
    "tags": []
   },
   "outputs": [],
   "source": [
    "%bigquery_stats bigquery-public-data.human_genome_variants.1000_genomes_pedigree"
   ]
  },
  {
   "cell_type": "markdown",
   "metadata": {
    "tags": []
   },
   "source": [
    "#### Querying with cell magics\n",
    "\n",
    "Run the cell below to total the number of distinct families represented in the 1000 Genomes dataset."
   ]
  },
  {
   "cell_type": "code",
   "execution_count": null,
   "metadata": {
    "tags": []
   },
   "outputs": [],
   "source": [
    "%%bigquery\n",
    "\n",
    "SELECT\n",
    "    COUNT(DISTINCT Maternal_ID) as num_mothers,\n",
    "    COUNT(DISTINCT Paternal_ID) as num_fathers,\n",
    "    COUNT(DISTINCT Individual_ID) as num_individuals,\n",
    "FROM `bigquery-public-data.human_genome_variants.1000_genomes_pedigree`;"
   ]
  },
  {
   "cell_type": "markdown",
   "metadata": {},
   "source": [
    "Run the cell below to total the number of distinct families corresponding to each of the 25 populations represented in the 1000 Genomes dataset.\n"
   ]
  },
  {
   "cell_type": "code",
   "execution_count": null,
   "metadata": {
    "tags": []
   },
   "outputs": [],
   "source": [
    "%%bigquery\n",
    "\n",
    "SELECT\n",
    "    Population,\n",
    "    COUNT(DISTINCT(Family_ID)) as num_familes,\n",
    "FROM `bigquery-public-data.human_genome_variants.1000_genomes_pedigree`\n",
    "GROUP BY\n",
    "    Population;"
   ]
  },
  {
   "cell_type": "markdown",
   "metadata": {},
   "source": [
    "Run the next two cells to select all individuals for whom the dataset contains both maternal and paternal IDs, then create a plot showing the distribution of these individuals by population.\n"
   ]
  },
  {
   "cell_type": "code",
   "execution_count": null,
   "metadata": {
    "tags": []
   },
   "outputs": [],
   "source": [
    "%%bigquery full_parent_data\n",
    "SELECT\n",
    "    Population,\n",
    "    Gender,\n",
    "    COUNT(DISTINCT Individual_ID) AS num_individuals\n",
    "FROM \n",
    "    `bigquery-public-data.human_genome_variants.1000_genomes_pedigree`\n",
    "WHERE\n",
    "    Paternal_ID != '0' and Maternal_ID != '0'\n",
    "GROUP BY\n",
    "  Population, Gender\n",
    "ORDER BY\n",
    "  num_individuals DESC;"
   ]
  },
  {
   "cell_type": "markdown",
   "metadata": {
    "tags": []
   },
   "source": [
    "### Using pandas-gbq\n",
    "<a id=\"using-pandas\"></a>\n",
    "\n",
    "The [`pandas-gbq` library](https://googleapis.dev/python/pandas-gbq/latest/index.html) provides a simple interface for running queries and uploading pandas dataframes to BigQuery. Additionally, this library offers [utilies for creating plots](https://pandas.pydata.org/docs/reference/api/pandas.DataFrame.plot.html) from your data.\n",
    "\n",
    "Run the cell below to use the `pandas-gbq` library to read data from BigQuery and create a plot of the data.\n"
   ]
  },
  {
   "cell_type": "code",
   "execution_count": null,
   "metadata": {
    "tags": []
   },
   "outputs": [],
   "source": [
    "query_df = pd.read_gbq(\n",
    "    \"\"\"SELECT\n",
    "        Population,\n",
    "        COUNT(DISTINCT IF(Gender = 1, Individual_ID, NULL)) AS num_females,\n",
    "        COUNT(DISTINCT IF(Gender = 2, Individual_ID, NULL)) AS num_males\n",
    "    FROM \n",
    "        `bigquery-public-data.human_genome_variants.1000_genomes_pedigree`\n",
    "    WHERE\n",
    "        Paternal_ID != '0' and Maternal_ID != '0'\n",
    "    GROUP BY\n",
    "      Population\n",
    "    ORDER BY\n",
    "      Population DESC;\"\"\")\n",
    "\n",
    "query_df.plot(\n",
    "    kind='bar',\n",
    "    title='Number of Individuals Per Population',\n",
    "    stacked='True',\n",
    "    x='Population'\n",
    ")"
   ]
  },
  {
   "cell_type": "markdown",
   "metadata": {},
   "source": [
    "## Provenance\n",
    "\n",
    "Generate information about this notebook environment and the packages installed."
   ]
  },
  {
   "cell_type": "code",
   "execution_count": null,
   "metadata": {},
   "outputs": [],
   "source": [
    "!date"
   ]
  },
  {
   "cell_type": "markdown",
   "metadata": {},
   "source": [
    "Conda and pip installed packages:\n"
   ]
  },
  {
   "cell_type": "code",
   "execution_count": null,
   "metadata": {},
   "outputs": [],
   "source": [
    "!conda env export"
   ]
  },
  {
   "cell_type": "markdown",
   "metadata": {},
   "source": [
    "JupyterLab extensions:\n"
   ]
  },
  {
   "cell_type": "code",
   "execution_count": null,
   "metadata": {},
   "outputs": [],
   "source": [
    "!jupyter labextension list"
   ]
  },
  {
   "cell_type": "markdown",
   "metadata": {},
   "source": [
    "Number of cores:\n"
   ]
  },
  {
   "cell_type": "code",
   "execution_count": null,
   "metadata": {},
   "outputs": [],
   "source": [
    "!grep ^processor /proc/cpuinfo | wc -l"
   ]
  },
  {
   "cell_type": "markdown",
   "metadata": {},
   "source": [
    "Memory:\n"
   ]
  },
  {
   "cell_type": "code",
   "execution_count": null,
   "metadata": {},
   "outputs": [],
   "source": [
    "!grep \"^MemTotal:\" /proc/meminfo"
   ]
  },
  {
   "cell_type": "markdown",
   "metadata": {},
   "source": [
    "---\n",
    "\n",
    "Copyright 2024 Verily Life Sciences LLC\n",
    "\n",
    "Use of this source code is governed by a BSD-style  \n",
    "license that can be found in the LICENSE file or at  \n",
    "https://developers.google.com/open-source/licenses/bsd\n"
   ]
  }
 ],
 "metadata": {
  "environment": {
   "kernel": "python3",
   "name": "r-cpu.m123",
   "type": "gcloud",
   "uri": "us-docker.pkg.dev/deeplearning-platform-release/gcr.io/r-cpu:m123"
  },
  "kernelspec": {
   "display_name": "Python 3 (Local)",
   "language": "python",
   "name": "python3"
  },
  "language_info": {
   "codemirror_mode": {
    "name": "ipython",
    "version": 3
   },
   "file_extension": ".py",
   "mimetype": "text/x-python",
   "name": "python",
   "nbconvert_exporter": "python",
   "pygments_lexer": "ipython3",
   "version": "3.10.14"
  },
  "toc-showmarkdowntxt": false,
  "toc-showtags": false
 },
 "nbformat": 4,
 "nbformat_minor": 4
}
