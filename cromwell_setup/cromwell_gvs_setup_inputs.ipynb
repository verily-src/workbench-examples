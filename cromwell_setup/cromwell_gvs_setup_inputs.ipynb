{
 "cells": [
  {
   "cell_type": "markdown",
   "id": "0",
   "metadata": {},
   "source": [
    "# Setup Cromwell GVS Input\n",
    "\n",
    "Starting a job on `cromwell` requires a source wdl and inputs to be configured. This notebook helps configure inputs and submits the job."
   ]
  },
  {
   "cell_type": "code",
   "execution_count": null,
   "id": "1",
   "metadata": {},
   "outputs": [],
   "source": [
    "import json\n",
    "import os\n",
    "from ipywidgets import widgets"
   ]
  },
  {
   "cell_type": "markdown",
   "id": "2",
   "metadata": {
    "tags": []
   },
   "source": [
    "## Setup variables"
   ]
  },
  {
   "cell_type": "code",
   "execution_count": null,
   "id": "3",
   "metadata": {},
   "outputs": [],
   "source": [
    "# This notebook will run the GVS workflow on the first NUM_OF_INPUTS samples in the INPUT_SOURCE location\n",
    "NUM_OF_INPUTS = 300  # CHANGE THIS NUMBER!\n",
    "CALLSET_IDENTIFIER = '300_samples_batch_id'  # CHANGE THIS NAME! \n",
    "\n",
    "# CHANGE THIS SOURCE LOCATION OF INPUT FILES\n",
    "INPUT_SOURCE = 'gs://{EXAMPLE_BUCKET}/PATH/TO/SAMPLES'\n",
    "\n",
    "# CHANGE THIS TO NAME YOUR BQ DATASET\n",
    "GVS_BQ_DATASET = 'gvs_300'\n",
    "\n",
    "# Change this to False to remove throttling applied to \"beta\" users\n",
    "IS_BETA_USER = True\n",
    "\n",
    "MAIN_WORKFLOW = \"GvsJointVariantCalling\"\n",
    "WDL_FILE = f\"{MAIN_WORKFLOW}.wdl\"\n",
    "\n",
    "GOOGLE_CLOUD_PROJECT = os.getenv('GOOGLE_CLOUD_PROJECT')"
   ]
  },
  {
   "cell_type": "markdown",
   "id": "4",
   "metadata": {},
   "source": [
    "The below cell will create a `~/wb-tutorials/cromwell` directory if it doesn't already exist. This contains files like a cromwell server log that another notebook may have created."
   ]
  },
  {
   "cell_type": "code",
   "execution_count": null,
   "id": "5",
   "metadata": {},
   "outputs": [],
   "source": [
    "CROMWELL_EXAMPLES_DIR=os.path.expanduser('~/wb-tutorials/cromwell')\n",
    "CROMWELL_SERVER_LOG=f'{CROMWELL_EXAMPLES_DIR}/cromwell.server.log'\n",
    "\n",
    "!mkdir -p {CROMWELL_EXAMPLES_DIR}"
   ]
  },
  {
   "cell_type": "code",
   "execution_count": null,
   "id": "6",
   "metadata": {},
   "outputs": [],
   "source": [
    "# We need the \"main\" wdl\n",
    "!cp gvs_wdls/GvsJointVariantCalling.wdl ."
   ]
  },
  {
   "cell_type": "code",
   "execution_count": null,
   "id": "7",
   "metadata": {},
   "outputs": [],
   "source": [
    "!wb resource create bq-dataset --name={GVS_BQ_DATASET}"
   ]
  },
  {
   "cell_type": "markdown",
   "id": "8",
   "metadata": {},
   "source": [
    "## Build json input file"
   ]
  },
  {
   "cell_type": "code",
   "execution_count": null,
   "id": "9",
   "metadata": {},
   "outputs": [],
   "source": [
    "# The gsutil ls call returns a list containing all the vcf.gz and vcf.gz.tbi files. Lets pull out all the vcf.gz files.\n",
    "input_source_list = !gsutil ls \"{INPUT_SOURCE}/**\"\n",
    "input_source_list = [input_source for input_source in input_source_list if input_source.endswith('vcf.gz')]"
   ]
  },
  {
   "cell_type": "code",
   "execution_count": null,
   "id": "10",
   "metadata": {},
   "outputs": [],
   "source": [
    "input_vcfs = []\n",
    "input_vcf_indexes = []\n",
    "sample_names = []\n",
    "\n",
    "for vcf_path in input_source_list[:NUM_OF_INPUTS]:\n",
    "    sample_name = vcf_path.split('/')[-2]\n",
    "    input_vcfs.append(vcf_path)\n",
    "    input_vcf_indexes.append(f'{vcf_path}.tbi')\n",
    "    sample_names.append(sample_name)"
   ]
  },
  {
   "cell_type": "code",
   "execution_count": null,
   "id": "11",
   "metadata": {},
   "outputs": [],
   "source": [
    "input_dict = {\n",
    "    'GvsJointVariantCalling.input_vcfs': input_vcfs,\n",
    "    'GvsJointVariantCalling.call_set_identifier': CALLSET_IDENTIFIER,\n",
    "    'GvsJointVariantCalling.external_sample_names': sample_names,\n",
    "    'GvsJointVariantCalling.dataset_name': GVS_BQ_DATASET,\n",
    "    'GvsJointVariantCalling.input_vcf_indexes': input_vcf_indexes,\n",
    "    'GvsJointVariantCalling.project_id': GOOGLE_CLOUD_PROJECT,\n",
    "    'GvsJointVariantCalling.is_beta_user': IS_BETA_USER,\n",
    "    'GvsJointVariantCalling.load_data_batch_size': 5,\n",
    "    'GvsJointVariantCalling.max_sleep_minutes': 120,\n",
    "    'GvsJointVariantCalling.INDEL_VQSR_mem_gb_override': 300,\n",
    "    'GvsJointVariantCalling.SNP_VQSR_mem_gb_override': 624\n",
    "}\n",
    "\n",
    "with open('gvs.inputs', 'w') as outfile:\n",
    "    json.dump(input_dict, outfile, indent=4)\n",
    "\n",
    "!head gvs.inputs"
   ]
  },
  {
   "cell_type": "markdown",
   "id": "12",
   "metadata": {},
   "source": [
    "## Build Empty options file"
   ]
  },
  {
   "cell_type": "code",
   "execution_count": null,
   "id": "13",
   "metadata": {},
   "outputs": [],
   "source": [
    "with open('gvs_options.json', 'w') as outfile:\n",
    "    json.dump({\n",
    "        'read_from_cache': True,\n",
    "        'write_to_cache': True\n",
    "    }, outfile, indent=4)"
   ]
  },
  {
   "cell_type": "markdown",
   "id": "14",
   "metadata": {},
   "source": [
    "## Submit job to server"
   ]
  },
  {
   "cell_type": "markdown",
   "id": "15",
   "metadata": {},
   "source": [
    "#### Submitting jobs with Cromshell\n",
    "\n",
    "[Cromshell](https://github.com/broadinstitute/cromshell) is a script for submitting workflows to a Cromwell server and monitoring / querying their results. Cromshell is preinstalled on Workbench cloud environments.\n",
    "\n",
    "##### Configure the Cromshell host port\n",
    "\n",
    "Prior to use, Cromshell needs to know what host and port the Cromwell server is running on.\n",
    "\n",
    "Run the cell below to write the Cromshell server configuration file."
   ]
  },
  {
   "cell_type": "code",
   "execution_count": null,
   "id": "16",
   "metadata": {},
   "outputs": [],
   "source": [
    "%%bash\n",
    "\n",
    "mkdir -p ~/.cromshell\n",
    "\n",
    "echo 'localhost:8000' > ~/.cromshell/cromwell_server.config"
   ]
  },
  {
   "cell_type": "code",
   "execution_count": null,
   "id": "17",
   "metadata": {},
   "outputs": [],
   "source": [
    "!cromshell submit GvsJointVariantCalling.wdl gvs.inputs gvs_options.json gvs_wdls.zip"
   ]
  },
  {
   "cell_type": "markdown",
   "id": "18",
   "metadata": {},
   "source": [
    "The following blocks of commented code are examples in Python and curl to do the same Cromwell submission.\n",
    "\n",
    "They are included here just for example."
   ]
  },
  {
   "cell_type": "code",
   "execution_count": null,
   "id": "19",
   "metadata": {},
   "outputs": [],
   "source": [
    "# import requests\n",
    "\n",
    "# url = \"http://localhost:8000/api/workflows/v1\"\n",
    "\n",
    "# files = {\n",
    "#     'workflowSource': ('file', open(WDL_FILE, 'rb')),\n",
    "#     'workflowDependencies': ('file', open('gvs_wdls.zip', 'rb')),\n",
    "#     'workflowInputs': ('file', open('gvs.inputs', 'rb'))\n",
    "# }\n",
    "\n",
    "# headers = {\n",
    "#     'Accept': 'application/json'\n",
    "# }\n",
    "\n",
    "# response = requests.post(url, headers=headers, files=files)\n",
    "# response.content"
   ]
  },
  {
   "cell_type": "code",
   "execution_count": null,
   "id": "20",
   "metadata": {},
   "outputs": [],
   "source": [
    "# %%bash -s {WDL_FILE}\n",
    "\n",
    "# WDL_FILE=\"$1\"\n",
    "# curl -X POST --header \"Accept: application/json\"\\\n",
    "#     -v \"localhost:8000/api/workflows/v1\" \\\n",
    "#     -F workflowSource=@\"${WDL_FILE}\" \\\n",
    "#     -F workflowDependencies=@gvs_wdls.zip \\\n",
    "#     -F workflowInputs=@gvs.inputs"
   ]
  },
  {
   "cell_type": "markdown",
   "id": "21",
   "metadata": {},
   "source": [
    "### Check status of job"
   ]
  },
  {
   "cell_type": "code",
   "execution_count": null,
   "id": "22",
   "metadata": {},
   "outputs": [],
   "source": [
    "!cromshell status"
   ]
  },
  {
   "cell_type": "code",
   "execution_count": null,
   "id": "23",
   "metadata": {},
   "outputs": [],
   "source": [
    "!tail -n 5 {CROMWELL_SERVER_LOG}"
   ]
  },
  {
   "cell_type": "markdown",
   "id": "24",
   "metadata": {},
   "source": [
    "# Observe Cromwell output"
   ]
  },
  {
   "cell_type": "code",
   "execution_count": null,
   "id": "25",
   "metadata": {},
   "outputs": [],
   "source": [
    "!cromshell list-outputs > gvs_output_list.txt"
   ]
  },
  {
   "cell_type": "code",
   "execution_count": null,
   "id": "26",
   "metadata": {},
   "outputs": [],
   "source": [
    "!grep CreateManifest/manifest.txt gvs_output_list.txt"
   ]
  }
 ],
 "metadata": {
  "environment": {
   "kernel": "python3",
   "name": "r-cpu.m123",
   "type": "gcloud",
   "uri": "us-docker.pkg.dev/deeplearning-platform-release/gcr.io/r-cpu:m123"
  },
  "kernelspec": {
   "display_name": "Python 3 (Local)",
   "language": "python",
   "name": "python3"
  },
  "language_info": {
   "codemirror_mode": {
    "name": "ipython",
    "version": 3
   },
   "file_extension": ".py",
   "mimetype": "text/x-python",
   "name": "python",
   "nbconvert_exporter": "python",
   "pygments_lexer": "ipython3",
   "version": "3.10.14"
  }
 },
 "nbformat": 4,
 "nbformat_minor": 5
}
