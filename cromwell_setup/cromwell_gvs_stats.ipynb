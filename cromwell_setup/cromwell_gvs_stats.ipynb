{
 "cells": [
  {
   "cell_type": "markdown",
   "id": "0",
   "metadata": {},
   "source": [
    "# Setup Cromwell GVS Stats Input\n",
    "\n",
    "Starting a job on `cromwell` requires a source wdl and inputs to be configured. This notebook helps configure inputs and submits the job."
   ]
  },
  {
   "cell_type": "code",
   "execution_count": null,
   "id": "1",
   "metadata": {},
   "outputs": [],
   "source": [
    "import json\n",
    "import os\n",
    "from ipywidgets import widgets"
   ]
  },
  {
   "cell_type": "markdown",
   "id": "2",
   "metadata": {},
   "source": [
    "## Setup variables"
   ]
  },
  {
   "cell_type": "code",
   "execution_count": null,
   "id": "3",
   "metadata": {},
   "outputs": [],
   "source": [
    "# Set the CALLSET_IDENTIFIER and GVS_BQ_DATASET to match the variables used in the GVS run\n",
    "CALLSET_IDENTIFIER = 'willyn-300-samples-4'\n",
    "GVS_BQ_DATASET = 'gvs_testing'\n",
    "\n",
    "MAIN_WORKFLOW = \"GvsCallsetStatistics\"\n",
    "WDL_FILE = f\"{MAIN_WORKFLOW}.wdl\"\n",
    "\n",
    "GOOGLE_CLOUD_PROJECT = os.getenv('GOOGLE_CLOUD_PROJECT')\n"
   ]
  },
  {
   "cell_type": "markdown",
   "id": "4",
   "metadata": {},
   "source": [
    "The below cell will create a `~/wb-tutorials/cromwell` directory if it doesn't already exist. This contains files like a cromwell server log that another notebook may have created."
   ]
  },
  {
   "cell_type": "code",
   "execution_count": null,
   "id": "5",
   "metadata": {},
   "outputs": [],
   "source": [
    "CROMWELL_EXAMPLES_DIR=os.path.expanduser('~/wb-tutorials/cromwell')\n",
    "CROMWELL_SERVER_LOG=f'{CROMWELL_EXAMPLES_DIR}/cromwell.server.log'\n",
    "\n",
    "!mkdir -p {CROMWELL_EXAMPLES_DIR}"
   ]
  },
  {
   "cell_type": "code",
   "execution_count": null,
   "id": "6",
   "metadata": {},
   "outputs": [],
   "source": [
    "# We need the \"main\" wdl\n",
    "!cp gvs_wdls/GvsCallsetStatistics.wdl ."
   ]
  },
  {
   "cell_type": "markdown",
   "id": "7",
   "metadata": {},
   "source": [
    "## Build json input file\n"
   ]
  },
  {
   "cell_type": "code",
   "execution_count": null,
   "id": "8",
   "metadata": {},
   "outputs": [],
   "source": [
    "input_dict = {\n",
    "    'GvsCallsetStatistics.project_id': GOOGLE_CLOUD_PROJECT,\n",
    "    'GvsCallsetStatistics.dataset_name': GVS_BQ_DATASET,\n",
    "    'GvsCallsetStatistics.filter_set_name': CALLSET_IDENTIFIER,\n",
    "    'GvsCallsetStatistics.extract_prefix': CALLSET_IDENTIFIER,\n",
    "    'GvsCallsetStatistics.bq_location': 'us-central1'\n",
    "}\n",
    "\n",
    "with open('gvs_stats.inputs', 'w') as outfile:\n",
    "    json.dump(input_dict, outfile, indent=4)\n",
    "\n",
    "!head gvs_stats.inputs"
   ]
  },
  {
   "cell_type": "markdown",
   "id": "9",
   "metadata": {},
   "source": [
    "## Build Empty options file"
   ]
  },
  {
   "cell_type": "code",
   "execution_count": null,
   "id": "10",
   "metadata": {},
   "outputs": [],
   "source": [
    "with open('gvs_options.json', 'w') as outfile:\n",
    "    json.dump({}, outfile, indent=4)"
   ]
  },
  {
   "cell_type": "markdown",
   "id": "11",
   "metadata": {},
   "source": [
    "## Submit job to server"
   ]
  },
  {
   "cell_type": "code",
   "execution_count": null,
   "id": "12",
   "metadata": {},
   "outputs": [],
   "source": [
    "%%bash\n",
    "\n",
    "mkdir -p ~/.cromshell\n",
    "\n",
    "echo 'localhost:8000' > ~/.cromshell/cromwell_server.config"
   ]
  },
  {
   "cell_type": "code",
   "execution_count": null,
   "id": "13",
   "metadata": {},
   "outputs": [],
   "source": [
    "!cromshell submit GvsCallsetStatistics.wdl gvs_stats.inputs gvs_options.json gvs_wdls.zip"
   ]
  },
  {
   "cell_type": "markdown",
   "id": "14",
   "metadata": {},
   "source": [
    "### Check status of job"
   ]
  },
  {
   "cell_type": "code",
   "execution_count": null,
   "id": "15",
   "metadata": {},
   "outputs": [],
   "source": [
    "!cromshell status"
   ]
  },
  {
   "cell_type": "code",
   "execution_count": null,
   "id": "16",
   "metadata": {},
   "outputs": [],
   "source": [
    "!tail -n 5 {CROMWELL_SERVER_LOG}"
   ]
  }
 ],
 "metadata": {
  "environment": {
   "kernel": "python3",
   "name": "r-cpu.m123",
   "type": "gcloud",
   "uri": "us-docker.pkg.dev/deeplearning-platform-release/gcr.io/r-cpu:m123"
  },
  "kernelspec": {
   "display_name": "Python 3 (Local)",
   "language": "python",
   "name": "python3"
  },
  "language_info": {
   "codemirror_mode": {
    "name": "ipython",
    "version": 3
   },
   "file_extension": ".py",
   "mimetype": "text/x-python",
   "name": "python",
   "nbconvert_exporter": "python",
   "pygments_lexer": "ipython3",
   "version": "3.10.14"
  }
 },
 "nbformat": 4,
 "nbformat_minor": 5
}
