{
 "cells": [
  {
   "cell_type": "markdown",
   "id": "0",
   "metadata": {},
   "source": [
    "# Execute VWB Data Explorer queries\n",
    "\n",
    "This notebook is intended to be a guide on how to view and further analyze cohorts built from [VWB Data Explorer](https://tanagra-dev.api.verily.com/#/underlays/cms_synpuf/studies/Ed2q6yobOf).\n",
    "\n",
    "This notebook guides you through:\n",
    "  1. Run a cohort query in BigQuery and save the results to a dataframe.\n",
    "  2. Display simple visualizations on the resulting data.\n",
    "  3. View exported VWB Data Explorer files in a dataframe.\n",
    "  \n",
    "> If you are **previewing** this notebook from Verily Workbench, please create a cloud environment and look for this file in the `~/repos/workbench-examples/omop_examples/` directory. Instructions for creating a cloud environment are available in the workspace description."
   ]
  },
  {
   "cell_type": "code",
   "execution_count": null,
   "id": "1",
   "metadata": {},
   "outputs": [],
   "source": [
    "import pandas as pd\n",
    "import os\n",
    "from google.cloud import bigquery\n",
    "\n",
    "# Enable IPython to display matplotlib graphs.\n",
    "import matplotlib.pyplot as plt\n",
    "%matplotlib inline"
   ]
  },
  {
   "cell_type": "markdown",
   "id": "2",
   "metadata": {},
   "source": [
    "## Copy and paste query from VWB Data Explorer below"
   ]
  },
  {
   "cell_type": "code",
   "execution_count": null,
   "id": "3",
   "metadata": {},
   "outputs": [],
   "source": [
    "query = \"\"\"\n",
    "\n",
    "\"\"\""
   ]
  },
  {
   "cell_type": "code",
   "execution_count": null,
   "id": "4",
   "metadata": {},
   "outputs": [],
   "source": [
    "# An example query you can use is below\n",
    "\"\"\"\n",
    "SELECT\n",
    "    EXTRACT(YEAR \n",
    "FROM\n",
    "    CURRENT_DATE()) - p.age AS age,\n",
    "    p.ethnicity AS ethnicity,\n",
    "    p.gender AS gender,\n",
    "    p.id AS id,\n",
    "    p.race AS race,\n",
    "    p.t_display_ethnicity AS t_display_ethnicity,\n",
    "    p.t_display_gender AS t_display_gender,\n",
    "    p.t_display_race AS t_display_race,\n",
    "    p.year_of_birth AS year_of_birth \n",
    "FROM\n",
    "    `verily-tanagra-dev.cmssynpuf_index_071923`.person AS p \n",
    "WHERE\n",
    "    (\n",
    "        p.gender = 8507 \n",
    "        OR p.gender = 8532\n",
    "    ) LIMIT 50\n",
    "\"\"\""
   ]
  },
  {
   "cell_type": "code",
   "execution_count": null,
   "id": "5",
   "metadata": {},
   "outputs": [],
   "source": [
    "job_query_config = bigquery.QueryJobConfig()\n",
    "client = bigquery.Client()"
   ]
  },
  {
   "cell_type": "code",
   "execution_count": null,
   "id": "6",
   "metadata": {},
   "outputs": [],
   "source": [
    "df = client.query(query).result().to_dataframe()\n",
    "df"
   ]
  },
  {
   "cell_type": "markdown",
   "id": "7",
   "metadata": {},
   "source": [
    "## Display visualizations\n",
    "\n",
    "Now that the results are stored in a dataframe, we can use libraries like pandas and matplotlib to display visualizations.\n",
    "\n",
    "Provided are histogram examples."
   ]
  },
  {
   "cell_type": "code",
   "execution_count": null,
   "id": "8",
   "metadata": {},
   "outputs": [],
   "source": [
    "df.t_display_gender.value_counts().plot(kind='bar')"
   ]
  },
  {
   "cell_type": "code",
   "execution_count": null,
   "id": "9",
   "metadata": {},
   "outputs": [],
   "source": [
    "df.t_display_ethnicity.value_counts().plot(kind='bar')"
   ]
  },
  {
   "cell_type": "markdown",
   "id": "10",
   "metadata": {},
   "source": [
    "## View exported VWB Data Explorer files\n",
    "1. Replace the BUCKET_NAME variable with the name of the bucket contaning the exports.\n",
    "4. Run the code."
   ]
  },
  {
   "cell_type": "code",
   "execution_count": null,
   "id": "11",
   "metadata": {},
   "outputs": [],
   "source": [
    "BUCKET_NAME = \"??\""
   ]
  },
  {
   "cell_type": "code",
   "execution_count": null,
   "id": "12",
   "metadata": {},
   "outputs": [],
   "source": [
    "def find_first_csv_string(strings_list):\n",
    "    for string in strings_list:\n",
    "        if string.endswith(\".csv\"):\n",
    "            return string\n",
    "    return None\n",
    "\n",
    "wb_resource_output = !wb resource resolve --name={BUCKET_NAME}\n",
    "gcs_bucket = wb_resource_output[0]\n",
    "gcs_path = f\"{gcs_bucket}/storage.googleapis.com/verily-tanagra-dev-export-bucket/\"\n",
    "filelist = !gsutil ls {gcs_path}\n",
    "csv_full_path = find_first_csv_string(filelist)\n",
    "!gsutil cp {csv_full_path} .\n",
    "csv_filename = os.path.basename(csv_full_path)\n",
    "csv_filename"
   ]
  },
  {
   "cell_type": "code",
   "execution_count": null,
   "id": "13",
   "metadata": {},
   "outputs": [],
   "source": [
    "csv_df = pd.read_csv(csv_filename)\n",
    "csv_df"
   ]
  },
  {
   "cell_type": "code",
   "execution_count": null,
   "id": "14",
   "metadata": {},
   "outputs": [],
   "source": []
  }
 ],
 "metadata": {
  "environment": {
   "kernel": "python3",
   "name": "r-cpu.m123",
   "type": "gcloud",
   "uri": "us-docker.pkg.dev/deeplearning-platform-release/gcr.io/r-cpu:m123"
  },
  "kernelspec": {
   "display_name": "Python 3 (Local)",
   "language": "python",
   "name": "python3"
  },
  "language_info": {
   "codemirror_mode": {
    "name": "ipython",
    "version": 3
   },
   "file_extension": ".py",
   "mimetype": "text/x-python",
   "name": "python",
   "nbconvert_exporter": "python",
   "pygments_lexer": "ipython3",
   "version": "3.10.14"
  }
 },
 "nbformat": 4,
 "nbformat_minor": 5
}
