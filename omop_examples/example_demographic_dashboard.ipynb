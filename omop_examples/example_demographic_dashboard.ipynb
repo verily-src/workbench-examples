{
 "cells": [
  {
   "cell_type": "markdown",
   "id": "0",
   "metadata": {},
   "source": [
    "# CMS SynPuf: Example demographics dashboard\n",
    "\n",
    "This notebook queries the [CMS SynPuf dataset](https://console.cloud.google.com/marketplace/product/hhs/synpuf?pli=1), a public synthetic patient data in OMOP. This notebook is intended to be used as an example for how to query the public OMOP dataset, and how to do create an example dashboard.\n",
    "\n",
    "> If you are **previewing** this notebook from Verily Workbench, please create a cloud environment and look for this file in the `~/repos/workbench-examples/omop_examples/` directory. Instructions for creating a cloud environment are available in the workspace description."
   ]
  },
  {
   "cell_type": "markdown",
   "id": "1",
   "metadata": {},
   "source": [
    "## Import python libraries"
   ]
  },
  {
   "cell_type": "code",
   "execution_count": null,
   "id": "2",
   "metadata": {},
   "outputs": [],
   "source": [
    "import pandas as pd\n",
    "from google.cloud import bigquery\n",
    "\n",
    "import numpy as np \n",
    "import seaborn as sns \n",
    "import matplotlib.pyplot as plt \n",
    "from ipywidgets import interact, interactive, fixed, interact_manual\n",
    "import ipywidgets as widgets"
   ]
  },
  {
   "cell_type": "markdown",
   "id": "3",
   "metadata": {},
   "source": [
    "## Notebook setup"
   ]
  },
  {
   "cell_type": "code",
   "execution_count": null,
   "id": "4",
   "metadata": {},
   "outputs": [],
   "source": [
    "'''\n",
    "Resolves BQ dataset from reference in workspace.\n",
    "'''\n",
    "def get_bq_dataset_from_reference(resource_name):\n",
    "    BQ_CMD_OUTPUT = !wb resolve --name={resource_name}\n",
    "    BQ_DATASET = BQ_CMD_OUTPUT[0]\n",
    "    return BQ_DATASET"
   ]
  },
  {
   "cell_type": "markdown",
   "id": "5",
   "metadata": {},
   "source": [
    "## Connect to the BQ database"
   ]
  },
  {
   "cell_type": "code",
   "execution_count": null,
   "id": "6",
   "metadata": {},
   "outputs": [],
   "source": [
    "# The following line resolves the workspace resource named cms_synthetic_patient_data_omop. \n",
    "BQ_dataset = get_bq_dataset_from_reference('cms_synthetic_patient_data_omop')\n",
    "# The above line will fail if you don't have this resource in your workspace.\n",
    "\n",
    "# If that is the case, you can hard code the BQ_dataset instead by uncommenting the following line. \n",
    "# BQ_dataset = 'bigquery-public-data.cms_synthetic_patient_data_omop'"
   ]
  },
  {
   "cell_type": "code",
   "execution_count": null,
   "id": "7",
   "metadata": {},
   "outputs": [],
   "source": [
    "job_query_config = bigquery.QueryJobConfig(default_dataset=BQ_dataset)\n",
    "client = bigquery.Client(default_query_job_config=job_query_config)"
   ]
  },
  {
   "cell_type": "markdown",
   "id": "8",
   "metadata": {},
   "source": [
    "# Execute queries\n",
    "The below code will send a request to BigQuery to execute the query. The results will be stored in a Pandas dataframe."
   ]
  },
  {
   "cell_type": "code",
   "execution_count": null,
   "id": "9",
   "metadata": {},
   "outputs": [],
   "source": [
    "race_concept_query = \"\"\"\n",
    "SELECT concept_id as race_concept_id, concept_name as race FROM `concept` where domain_id = \"Race\"\n",
    "\"\"\"\n",
    "race_concept_df = client.query(race_concept_query).result().to_dataframe()\n",
    "race_concept_df.head(5)"
   ]
  },
  {
   "cell_type": "code",
   "execution_count": null,
   "id": "10",
   "metadata": {},
   "outputs": [],
   "source": [
    "gender_concept_query = \"\"\"\n",
    "SELECT concept_id as gender_concept_id, concept_name as gender FROM `concept` where domain_id = \"Gender\"\n",
    "\"\"\"\n",
    "gender_concept_df = client.query(gender_concept_query).result().to_dataframe()\n",
    "gender_concept_df.head(5)"
   ]
  },
  {
   "cell_type": "code",
   "execution_count": null,
   "id": "11",
   "metadata": {},
   "outputs": [],
   "source": [
    "people_query = \"\"\"\n",
    "SELECT \n",
    "  person_id,\n",
    "  race_concept_id,\n",
    "  gender_concept_id,\n",
    "  year_of_birth,\n",
    "  month_of_birth\n",
    "FROM \n",
    "  `person`\n",
    "WHERE RAND() < 10000/2326856\n",
    "\"\"\"\n",
    "\n",
    "cms_syn_df = client.query(people_query).result().to_dataframe()\n",
    "cms_syn_df.head(5)"
   ]
  },
  {
   "cell_type": "code",
   "execution_count": null,
   "id": "12",
   "metadata": {},
   "outputs": [],
   "source": [
    "merged_df = pd.merge(cms_syn_df, race_concept_df, on=\"race_concept_id\")\n",
    "merged_df = pd.merge(merged_df, gender_concept_df, on=\"gender_concept_id\")\n",
    "merged_df.head(5)"
   ]
  },
  {
   "cell_type": "markdown",
   "id": "13",
   "metadata": {},
   "source": [
    "# Build example interactive dashboard"
   ]
  },
  {
   "cell_type": "code",
   "execution_count": null,
   "id": "14",
   "metadata": {},
   "outputs": [],
   "source": [
    "def plot_histogram(bins = 10, hue = 'race', palette = 'Blues', x_range_1 = (1900,2000)): \n",
    "    plt.figure(dpi = 120)\n",
    "    sns.histplot(data = merged_df, \n",
    "                        x = 'year_of_birth',\n",
    "                        palette=palette, \n",
    "                        bins = bins, \n",
    "                        hue = hue,\n",
    "                       )\n",
    "    plt.xlim(x_range_1)"
   ]
  },
  {
   "cell_type": "code",
   "execution_count": null,
   "id": "15",
   "metadata": {},
   "outputs": [],
   "source": [
    "_ = interact(\n",
    "    plot_histogram,\n",
    "    palette = widgets.Dropdown(\n",
    "        options = ['pastel','husl','Set2','flare','crest','magma','icefire']\n",
    "    ),\n",
    "    hue = widgets.ToggleButtons(\n",
    "        options = ['race','gender'],\n",
    "        disabled = False,\n",
    "        button_style = 'success'\n",
    "    ),\n",
    "    bins = widgets.IntSlider(\n",
    "        value = 10,\n",
    "        min = 3,\n",
    "        max = 15,\n",
    "        step = 1\n",
    "    ),\n",
    "    x_range_1 = widgets.IntRangeSlider(\n",
    "        value = [1900,2000], \n",
    "        min = 1900,\n",
    "        max = 2000,\n",
    "    ),\n",
    ")"
   ]
  },
  {
   "cell_type": "markdown",
   "id": "16",
   "metadata": {
    "tags": []
   },
   "source": [
    "## Provenance\n",
    "\n",
    "Generate information about this notebook environment and the packages installed."
   ]
  },
  {
   "cell_type": "code",
   "execution_count": null,
   "id": "17",
   "metadata": {},
   "outputs": [],
   "source": [
    "!date"
   ]
  },
  {
   "cell_type": "markdown",
   "id": "18",
   "metadata": {},
   "source": [
    "Conda and pip installed packages:\n"
   ]
  },
  {
   "cell_type": "code",
   "execution_count": null,
   "id": "19",
   "metadata": {},
   "outputs": [],
   "source": [
    "!conda env export"
   ]
  },
  {
   "cell_type": "markdown",
   "id": "20",
   "metadata": {},
   "source": [
    "JupyterLab extensions:"
   ]
  },
  {
   "cell_type": "code",
   "execution_count": null,
   "id": "21",
   "metadata": {},
   "outputs": [],
   "source": [
    "!jupyter labextension list"
   ]
  },
  {
   "cell_type": "markdown",
   "id": "22",
   "metadata": {},
   "source": [
    "Number of cores:"
   ]
  },
  {
   "cell_type": "code",
   "execution_count": null,
   "id": "23",
   "metadata": {},
   "outputs": [],
   "source": [
    "!grep ^processor /proc/cpuinfo | wc -l"
   ]
  },
  {
   "cell_type": "markdown",
   "id": "24",
   "metadata": {},
   "source": [
    "Memory:"
   ]
  },
  {
   "cell_type": "code",
   "execution_count": null,
   "id": "25",
   "metadata": {},
   "outputs": [],
   "source": [
    "!grep \"^MemTotal:\" /proc/meminfo"
   ]
  },
  {
   "cell_type": "markdown",
   "id": "26",
   "metadata": {},
   "source": [
    "---\n",
    "\n",
    "Copyright 2023 Verily Life Sciences LLC\n",
    "\n",
    "Use of this source code is governed by a BSD-style  \n",
    "license that can be found in the LICENSE file or at  \n",
    "https://developers.google.com/open-source/licenses/bsd\n"
   ]
  }
 ],
 "metadata": {
  "environment": {
   "kernel": "python3",
   "name": "r-cpu.m123",
   "type": "gcloud",
   "uri": "us-docker.pkg.dev/deeplearning-platform-release/gcr.io/r-cpu:m123"
  },
  "kernelspec": {
   "display_name": "Python 3 (Local)",
   "language": "python",
   "name": "python3"
  },
  "language_info": {
   "codemirror_mode": {
    "name": "ipython",
    "version": 3
   },
   "file_extension": ".py",
   "mimetype": "text/x-python",
   "name": "python",
   "nbconvert_exporter": "python",
   "pygments_lexer": "ipython3",
   "version": "3.10.14"
  }
 },
 "nbformat": 4,
 "nbformat_minor": 5
}
